{
 "cells": [
  {
   "cell_type": "markdown",
   "metadata": {},
   "source": [
    "## Analysis of Maze Generation Algorithms\n",
    "\n",
    "Maze generation algorithms are an interesting branch of computing resulting from the need to generate larger and more complex mazes faster as it is just as important of a metric as the speed of the traversal to maze traversal algorithms. Maze traversal algorithms are important to many fields such as biology, chemistry, sociology, physics, and information science because at the most basic level, a maze is simply a complex network of nodes and traversing such networks is a problem that lies in the heart of many of the most important problems today. For example, route planning can be thought of as finding the fastest and most efficient way from two nodes within a network, or two cells within a maze. <br/>\n",
    "\n",
    "This project will be expanding upon my midterm project and focusing on comparing Eller's algorithm with the much less complex Binary Tree Algorithm as well as providing working a working example of each algorithm."
   ]
  },
  {
   "cell_type": "code",
   "execution_count": 45,
   "metadata": {},
   "outputs": [],
   "source": [
    "# Library Imports and Variable Initialization\n",
    "\n",
    "import numpy as np\n",
    "import matplotlib.pyplot as plt\n",
    "import matplotlib.animation as animation\n",
    "\n",
    "from timeit import default_timer as timer\n",
    "import random as rd\n",
    "\n",
    "\n",
    "def drawState(state):\n",
    "    fig, ax = plt.subplots()\n",
    "    ax.set_aspect('equal', adjustable='box')\n",
    "    plt.pcolormesh(state, cmap=plt.get_cmap('binary'))\n",
    "    plt.axis('off')\n",
    "    plt.show()\n",
    "\n",
    "\n",
    "def animateStates(states, name):\n",
    "    # For a better viewing experience\n",
    "    lastState = states[len(states)-1]\n",
    "    for i in range(int(len(states)/10)):\n",
    "        states.append(lastState)\n",
    "\n",
    "    fig, ax = plt.subplots()\n",
    "    ax.set_aspect('equal', adjustable='box')\n",
    "    plt.axis('off')\n",
    "    p = plt.pcolormesh(states[0], cmap=plt.get_cmap('binary'))\n",
    "\n",
    "    def update(i):\n",
    "        p.set_array(states[i])\n",
    "        return p\n",
    "\n",
    "    ani = animation.FuncAnimation(\n",
    "        fig, update, frames=range(0, len(states), 1), interval=10)\n",
    "    ani.save(name + '.gif', animation.PillowWriter(fps=20))\n",
    "    ani.save(name + '.mp4', animation.FFMpegWriter(fps=20))\n"
   ]
  },
  {
   "cell_type": "markdown",
   "metadata": {},
   "source": [
    "### Eller's Algorithm\n",
    "\n",
    "Eller's Algorithm is one of the most facinating Maze Generation Algorithms capable of generating mazes of infinite sizes in linear time. It does so by building the maze one row at a time making extensive use of sets to keep track of how each row is connected to the previous row. The general process is you start with a row where each cell is an element of its own unique set. Then randomly union adjacent sets. The remaining sets will be divided by a wall. Now for each set, iterate through each of its elements and randomly create a wall while also making sure each set has at least one connection to the next row. This completes one row of the maze."
   ]
  },
  {
   "cell_type": "code",
   "execution_count": 46,
   "metadata": {},
   "outputs": [],
   "source": [
    "# Utilities for Eller's Algorithm\n",
    "\n",
    "class Cell:\n",
    "    def __init__(self):\n",
    "        self.set = []\n",
    "        self.hasRightWall = False\n",
    "        self.hasTopWall = False\n",
    "\n",
    "\n",
    "def initSets(cells, sets):\n",
    "    for cell in cells:\n",
    "        if(len(cell.set) == 0):\n",
    "            cell.set.append(cell)\n",
    "            sets.append(cell.set)\n",
    "\n",
    "\n",
    "def joinRight(cells):\n",
    "    for i in range(len(cells)-1):\n",
    "        if(bool(rd.getrandbits(1)) or (cells[i].set == cells[i+1].set)):\n",
    "            cells[i].hasRightWall = True\n",
    "        else:\n",
    "            cells[i+1].set.remove(cells[i+1])\n",
    "            cells[i].set.append(cells[i+1])\n",
    "            cells[i+1].set = cells[i].set\n",
    "    cells[len(cells)-1].hasRightWall = True\n",
    "\n",
    "\n",
    "def joinTop(sets):\n",
    "    for set in sets:\n",
    "        if(len(set) > 0):\n",
    "            for cell in set:\n",
    "                walls = 1\n",
    "                if((walls < len(set)) and bool(rd.getrandbits(1))):\n",
    "                    cell.hasTopWall = True\n",
    "                    walls += 1\n",
    "        else:\n",
    "            sets.remove(set)\n",
    "\n",
    "\n",
    "def initNext(cells):\n",
    "    for cell in cells:\n",
    "        cell.hasRightWall = False\n",
    "        if(cell.hasTopWall):\n",
    "            cell.set.remove(cell)\n",
    "            cell.set = []\n",
    "            cell.hasTopWall = False\n",
    "\n",
    "\n",
    "def toMaze(states, maze, cells, y):\n",
    "    for x in range(len(cells)):\n",
    "        maze[y*2+2][x*2+2] = 1\n",
    "        if(cells[x].hasRightWall):\n",
    "            maze[y*2+1][x*2+2] = 1\n",
    "        if(cells[x].hasTopWall):\n",
    "            maze[y*2+2][x*2+1] = 1\n",
    "    states.append(np.copy(maze))\n"
   ]
  },
  {
   "cell_type": "code",
   "execution_count": 47,
   "metadata": {},
   "outputs": [],
   "source": [
    "def eller_algorithm(size):\n",
    "    cells = []\n",
    "    sets = []\n",
    "\n",
    "    states = []\n",
    "\n",
    "    maze = np.zeros((size[0]*2+1)*(size[1]*2+1)\n",
    "                    ).reshape(size[1]*2+1, size[0]*2+1)\n",
    "    maze[0] = 1\n",
    "    maze[:, 0] = 1\n",
    "\n",
    "    for i in range(size[1]):\n",
    "        if (i == 0):\n",
    "            for j in range(size[0]):\n",
    "                cells.append(Cell())\n",
    "        initSets(cells, sets)\n",
    "        if (i == size[1]-1):\n",
    "            for j in range(size[0]):\n",
    "                cells[j].hasTopWall = True\n",
    "                if (j == size[0]-1):\n",
    "                    cells[j].hasRightWall = True\n",
    "                elif (cells[j].set == cells[j+1].set):\n",
    "                    cells[j].hasRightWall = True\n",
    "            toMaze(states, maze, cells, i)\n",
    "            continue\n",
    "        for j in range(size[0]-1):\n",
    "            if(cells[j].set == cells[j+1].set):\n",
    "                cells[j].hasRightWall = True\n",
    "        joinRight(cells)\n",
    "        joinTop(sets)\n",
    "        toMaze(states, maze, cells, i)\n",
    "        initNext(cells)\n",
    "    return maze, states\n"
   ]
  },
  {
   "cell_type": "code",
   "execution_count": 48,
   "metadata": {},
   "outputs": [
    {
     "data": {
      "image/png": "[encoded data removed]",
      "text/plain": [
       "<Figure size 432x288 with 1 Axes>"
      ]
     },
     "metadata": {
      "needs_background": "light"
     },
     "output_type": "display_data"
    },
    {
     "data": {
      "image/png": "[encoded data removed]",
      "text/plain": [
       "<Figure size 432x288 with 1 Axes>"
      ]
     },
     "metadata": {
      "needs_background": "light"
     },
     "output_type": "display_data"
    }
   ],
   "source": [
    "# Draw Eller Maze\n",
    "size = [25, 25]\n",
    "\n",
    "maze, states = eller_algorithm(size)\n",
    "\n",
    "drawState(maze)\n",
    "animateStates(states, \"Eller\")\n"
   ]
  },
  {
   "cell_type": "markdown",
   "metadata": {},
   "source": [
    "### Binary Tree Algorithm\n",
    "\n",
    "Binary Tree Algorithm is another maze generation algorithm, but one of the most simple. Say we start from the lower left corner of a 2d maze as I do here, then we interate through the entire maze and for each cell we decide whether to remove the north or east wall provided the wall is not part of the border."
   ]
  },
  {
   "cell_type": "code",
   "execution_count": 49,
   "metadata": {},
   "outputs": [],
   "source": [
    "# Utility functions for Binary Tree Algorithm\n",
    "\n",
    "# For every cell, update surrounding walls\n",
    "def update_bt(x, y, maze, states):\n",
    "    maze[y*2+1][x*2+1] = 0\n",
    "    if ((y == size[1]-1) and (x == size[0]-1)):\n",
    "        pass\n",
    "    elif ((x != size[0]-1) and bool(rd.getrandbits(1)) or (y == size[1]-1) and (x != size[0]-1)):\n",
    "        maze[y*2+1][x*2+2] = 0\n",
    "    else:\n",
    "        maze[y*2+2][x*2+1] = 0\n",
    "    states.append(np.copy(maze))\n"
   ]
  },
  {
   "cell_type": "code",
   "execution_count": 50,
   "metadata": {},
   "outputs": [],
   "source": [
    "def binary_tree_algorithm(size):\n",
    "    maze = np.ones((size[0]*2+1)*(size[1]*2+1)\n",
    "                   ).reshape(size[1]*2+1, size[0]*2+1)\n",
    "    states = []\n",
    "    for i in range(size[1]):\n",
    "        for j in range(size[0]):\n",
    "            update_bt(j, i, maze, states)\n",
    "    return maze, states\n"
   ]
  },
  {
   "cell_type": "code",
   "execution_count": 51,
   "metadata": {},
   "outputs": [
    {
     "data": {
      "image/png": "[encoded data removed]",
      "text/plain": [
       "<Figure size 432x288 with 1 Axes>"
      ]
     },
     "metadata": {
      "needs_background": "light"
     },
     "output_type": "display_data"
    },
    {
     "data": {
      "image/png": "[encoded data removed]",
      "text/plain": [
       "<Figure size 432x288 with 1 Axes>"
      ]
     },
     "metadata": {
      "needs_background": "light"
     },
     "output_type": "display_data"
    }
   ],
   "source": [
    "# Draw Binary Tree Maze\n",
    "\n",
    "size = [25, 25]\n",
    "maze, states = binary_tree_algorithm(size)\n",
    "\n",
    "drawState(maze)\n",
    "animateStates(states, \"BinaryTree\")\n"
   ]
  },
  {
   "cell_type": "code",
   "execution_count": 54,
   "metadata": {},
   "outputs": [],
   "source": [
    "# Testing Utility Function\n",
    "\n",
    "def test(size, N):\n",
    "    eller = 0\n",
    "    bt = 0\n",
    "    for i in range(N):\n",
    "        start = timer()\n",
    "        eller_algorithm(size)\n",
    "        eller += timer() - start\n",
    "\n",
    "        start = timer()\n",
    "        binary_tree_algorithm(size)\n",
    "        bt += timer()-start\n",
    "    print(\"Size: \", size)\n",
    "    print(\"Average time taken for Eller Algorithm: \", eller/N)\n",
    "    print(\"Average time taken for Binary Tree Algorithm: \", bt/N)\n",
    "    print(\"Percent difference of the averages: \", (bt-eller)/eller*100)\n",
    "    print()\n"
   ]
  },
  {
   "cell_type": "code",
   "execution_count": 55,
   "metadata": {},
   "outputs": [
    {
     "name": "stdout",
     "output_type": "stream",
     "text": [
      "Size:  [10, 10]\n",
      "Average time taken for Eller Algorithm:  0.00023312499979510903\n",
      "Average time taken for Binary Tree Algorithm:  0.00034936000243760643\n",
      "Percent difference of the averages:  49.85951860360539\n",
      "\n",
      "Size:  [25, 25]\n",
      "Average time taken for Eller Algorithm:  0.0012092159932944923\n",
      "Average time taken for Binary Tree Algorithm:  0.0036537980032153427\n",
      "Percent difference of the averages:  202.16256016103625\n",
      "\n",
      "Size:  [25, 50]\n",
      "Average time taken for Eller Algorithm:  0.002451786001911387\n",
      "Average time taken for Binary Tree Algorithm:  0.011861296999268234\n",
      "Percent difference of the averages:  383.781903886444\n",
      "\n",
      "Size:  [50, 25]\n",
      "Average time taken for Eller Algorithm:  0.0022338160057552158\n",
      "Average time taken for Binary Tree Algorithm:  0.011938096992671489\n",
      "Percent difference of the averages:  434.4261551494891\n",
      "\n",
      "Size:  [50, 50]\n",
      "Average time taken for Eller Algorithm:  0.005020753999706358\n",
      "Average time taken for Binary Tree Algorithm:  0.06235157801187597\n",
      "Percent difference of the averages:  1141.8767781795852\n",
      "\n"
     ]
    }
   ],
   "source": [
    "N = 100\n",
    "\n",
    "test([10, 10], N)\n",
    "test([25, 25], N)\n",
    "test([25, 50], N)\n",
    "test([50, 25], N)\n",
    "test([50, 50], N)\n"
   ]
  },
  {
   "cell_type": "markdown",
   "metadata": {},
   "source": [
    "### Conclusion\n",
    "\n",
    "For very small mazes, there is a small but noticible difference between Eller's algorithm and Binary Tree algorithm with a percent difference of about 50% </br>\n",
    "As the maze grows larger, Eller's linear growth compared to Binary Tree's square growth becomes increasingly obvious with a percent difference of about 1142% when generating square mazes of size 50. </br>\n",
    "Also for uneven mazes, Eller's Bias towards \"taller\" mazes is in full display as it has a percent difference of about 434% for a taller maze of size [50, 25] compared to about 384% for a wider maze of size [25, 50] when Binary Tree's average time is about .012 seconds for both mazes. </br>\n",
    "The implementation of Eller's Algorithm here is nowhere near optimized, and I'm sure neither is my implementation of Binary Tree algorithm. One minor thing I would like to do if I had more time would be to add a 3rd algorithm for comparison, the room recursive division algorithm."
   ]
  },
  {
   "cell_type": "markdown",
   "metadata": {},
   "source": [
    "### Sources Used\n",
    "\n",
    "- https://weblog.jamisbuck.org/2010/12/29/maze-generation-eller-s-algorithm\n",
    "- http://weblog.jamisbuck.org/2011/2/1/maze-generation-binary-tree-algorithm\n",
    "- https://matplotlib.org/stable/api/_as_gen/matplotlib.animation.FuncAnimation.html\n",
    "- https://holypython.com/how-to-save-matplotlib-animations-the-ultimate-guide/"
   ]
  }
 ],
 "metadata": {
  "interpreter": {
   "hash": "9a10789d11d8c67e98bd9d36939f7ef03652b69216f681e3f86f003592db452c"
  },
  "kernelspec": {
   "display_name": "Python 3.10.4 64-bit",
   "language": "python",
   "name": "python3"
  },
  "language_info": {
   "codemirror_mode": {
    "name": "ipython",
    "version": 3
   },
   "file_extension": ".py",
   "mimetype": "text/x-python",
   "name": "python",
   "nbconvert_exporter": "python",
   "pygments_lexer": "ipython3",
   "version": "3.10.4"
  },
  "toc": {
   "base_numbering": 1,
   "nav_menu": {},
   "number_sections": true,
   "sideBar": true,
   "skip_h1_title": false,
   "title_cell": "Table of Contents",
   "title_sidebar": "Contents",
   "toc_cell": false,
   "toc_position": {},
   "toc_section_display": true,
   "toc_window_display": false
  }
 },
 "nbformat": 4,
 "nbformat_minor": 2
}
